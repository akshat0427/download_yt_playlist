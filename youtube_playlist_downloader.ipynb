{
 "cells": [
  {
   "cell_type": "code",
   "execution_count": 43,
   "id": "c61607fa-8997-4530-9829-478ce47ff24c",
   "metadata": {},
   "outputs": [],
   "source": [
    "# all the required packages\n",
    "from pytube import Playlist, YouTube\n",
    "import re\n",
    "import os \n",
    "\n",
    "\n",
    "class download_playlist:\n",
    "    \n",
    "    def __init__(self, l):\n",
    "        \n",
    "        self.l = l\n",
    "        self.o = self.get_url()\n",
    "        self.dir_ = self.get_title()\n",
    "        \n",
    "\n",
    "    def get_title(self):    # get the playlist's title \n",
    "        \n",
    "        l2 = self.l\n",
    "        plst = Playlist(l2)\n",
    "        return plst.title\n",
    "    \n",
    "    def get_url(self):      # fetches all the urls from a yt playlist \n",
    "\n",
    "        l = self.l\n",
    "        playlist = Playlist(l)\n",
    "        video_urls = [video_url for video_url in playlist.video_urls]\n",
    "        return  video_urls\n",
    "    \n",
    "    def save_playlist(self):  # saves the playlist locally in a folder named after playlist's title \n",
    "        \n",
    "        pattern = r'[^a-zA-Z0-9\\s]'\n",
    "        \n",
    "        o = self.o\n",
    "        \n",
    "        \n",
    "        for i in o:   \n",
    "            \n",
    "            yt = YouTube(i)   \n",
    "            cleaned_text = re.sub(pattern, '', yt.title)    \n",
    "            title= cleaned_text+\".mp4\"\n",
    "            \n",
    "            stream = yt.streams.filter(progressive=True, file_extension='mp4').order_by('resolution').desc().first()\n",
    "            stream.download(filename=f\"{title}.mp4\", output_path=f\"./{self.dir_}/\")    # download the highest resolution availaible\n",
    "            \n",
    "        size = os.listdir(f\"./{self.dir_}\")\n",
    "        s2 = []\n",
    "\n",
    "        ''' calculate size of the downloaded files'''\n",
    "        \n",
    "        for i in size:\n",
    "            s = os.stat(f\"./{self.dir_}/{i}\").st_size/1048576\n",
    "            s2.append(s)\n",
    "\n",
    "        if sum(s2) > 1024:\n",
    "            print(f\"downloaded {len(size)} files\")\n",
    "            print(\"\\n\")\n",
    "            print(\"size \", round(sum(s2)/1024,2), \"GB\")\n",
    "        \n",
    "        else:\n",
    "            print(f\"downloaded {len(size)} files  \\n\")\n",
    "            print(round(sum(s2),2), \"MB\")\n",
    "            \n",
    "    \n",
    "        \n",
    "        \n",
    "\n",
    "\n"
   ]
  },
  {
   "cell_type": "code",
   "execution_count": 24,
   "id": "9fbf860b-5deb-4a00-b1d4-783b48a7ddd5",
   "metadata": {},
   "outputs": [],
   "source": [
    "\n",
    "# https://www.youtube.com/watch?v=LsoLEjrDogU&list=PL2gNzJCL3m__eMdalO61pQi1f5lJN66ZI"
   ]
  },
  {
   "cell_type": "code",
   "execution_count": 41,
   "id": "6ac9f5b3-3417-4a22-9249-9bd0326d7c0d",
   "metadata": {},
   "outputs": [],
   "source": [
    "\n",
    "x = download_playlist(\"https://www.youtube.com/watch?v=fLexgOxsZu0&list=PL2gNzJCL3m_-Xy26PMvM1X28WhvSUnItL\")"
   ]
  },
  {
   "cell_type": "code",
   "execution_count": 42,
   "id": "5a5332cc-955b-4a71-8fbb-c144caf7dd57",
   "metadata": {},
   "outputs": [
    {
     "name": "stdout",
     "output_type": "stream",
     "text": [
      "downloaded 10, files  \n",
      "\n",
      "251.49 MB\n"
     ]
    }
   ],
   "source": [
    "x.save_playlist()"
   ]
  }
 ],
 "metadata": {
  "kernelspec": {
   "display_name": "Python 3 (ipykernel)",
   "language": "python",
   "name": "python3"
  },
  "language_info": {
   "codemirror_mode": {
    "name": "ipython",
    "version": 3
   },
   "file_extension": ".py",
   "mimetype": "text/x-python",
   "name": "python",
   "nbconvert_exporter": "python",
   "pygments_lexer": "ipython3",
   "version": "3.12.3"
  }
 },
 "nbformat": 4,
 "nbformat_minor": 5
}
